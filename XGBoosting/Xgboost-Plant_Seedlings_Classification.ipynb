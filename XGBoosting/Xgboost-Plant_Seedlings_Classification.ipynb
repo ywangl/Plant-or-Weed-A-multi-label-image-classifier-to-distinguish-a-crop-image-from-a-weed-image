{
 "cells": [
  {
   "cell_type": "markdown",
   "metadata": {},
   "source": [
    "## Import packages"
   ]
  },
  {
   "cell_type": "code",
   "execution_count": 1,
   "metadata": {
    "_cell_guid": "b1076dfc-b9ad-4769-8c92-a6c4dae69d19",
    "_uuid": "8f2839f25d086af736a60e9eeb907d3b93b6e0e5"
   },
   "outputs": [],
   "source": [
    "import os\n",
    "import numpy as np\n",
    "import pandas as pd\n",
    "import cv2\n",
    "import matplotlib.pyplot as plt\n",
    "%matplotlib inline\n",
    "\n",
    "import warnings\n",
    "warnings.filterwarnings('ignore')\n",
    "\n",
    "from sklearn.model_selection import train_test_split\n",
    "import itertools\n",
    "\n",
    "from keras.preprocessing import image\n",
    "from keras.preprocessing.image import ImageDataGenerator\n",
    "from keras.callbacks import ReduceLROnPlateau\n",
    "from keras.models import Sequential, Model\n",
    "from keras.layers import Dense, Activation, Flatten, Dropout, concatenate, Input, Conv2D, MaxPooling2D\n",
    "from keras.optimizers import Adam, Adadelta\n",
    "from keras.layers.advanced_activations import LeakyReLU\n",
    "from keras.utils.np_utils import to_categorical"
   ]
  },
  {
   "cell_type": "markdown",
   "metadata": {},
   "source": [
    "## Load Data"
   ]
  },
  {
   "cell_type": "code",
   "execution_count": 2,
   "metadata": {},
   "outputs": [],
   "source": [
    "#Define Image Directory\n",
    "train_dir = '/kaggle/input/plant-seedlings-classification/train/'\n",
    "test_dir = '/kaggle/input/plant-seedlings-classification/test/'\n",
    "sample_submission = pd.read_csv('/kaggle/input/plant-seedlings-classification/sample_submission.csv')"
   ]
  },
  {
   "cell_type": "code",
   "execution_count": 3,
   "metadata": {},
   "outputs": [],
   "source": [
    "SPECIES = ['Black-grass',\n",
    "           'Charlock',\n",
    "           'Cleavers',\n",
    "           'Common Chickweed',\n",
    "           'Common wheat',\n",
    "           'Fat Hen',\n",
    "           'Loose Silky-bent',\n",
    "           'Maize',\n",
    "           'Scentless Mayweed',\n",
    "           'Shepherds Purse',\n",
    "           'Small-flowered Cranesbill',\n",
    "           'Sugar beet']"
   ]
  },
  {
   "cell_type": "markdown",
   "metadata": {},
   "source": [
    "## Training Data"
   ]
  },
  {
   "cell_type": "code",
   "execution_count": 4,
   "metadata": {},
   "outputs": [
    {
     "name": "stdout",
     "output_type": "stream",
     "text": [
      "Training Data:  (4750, 3)\n"
     ]
    }
   ],
   "source": [
    "train = []\n",
    "\n",
    "for species_num, species in enumerate(SPECIES):\n",
    "    for file in os.listdir(os.path.join(train_dir, species)):\n",
    "        train.append(['../input/plant-seedlings-classification/train/{}/{}'.format(species, file), species_num, species])\n",
    "        \n",
    "train = pd.DataFrame(train, columns=['file', 'species_num', 'species'])\n",
    "\n",
    "print('Training Data: ',train.shape)"
   ]
  },
  {
   "cell_type": "markdown",
   "metadata": {},
   "source": [
    "## Image Pre-processing (Masking/Segmentation/Sharpening)"
   ]
  },
  {
   "cell_type": "code",
   "execution_count": 5,
   "metadata": {},
   "outputs": [],
   "source": [
    "def create_mask_for_plant(image):\n",
    "    image_hsv = cv2.cvtColor(image, cv2.COLOR_BGR2HSV)\n",
    "\n",
    "    sensitivity = 35\n",
    "    lower_hsv = np.array([60 - sensitivity, 100, 50])\n",
    "    upper_hsv = np.array([60 + sensitivity, 255, 255])\n",
    "\n",
    "    mask = cv2.inRange(image_hsv, lower_hsv, upper_hsv)\n",
    "    kernel = cv2.getStructuringElement(cv2.MORPH_ELLIPSE, (11,11))\n",
    "    mask = cv2.morphologyEx(mask, cv2.MORPH_CLOSE, kernel)\n",
    "    \n",
    "    return mask\n",
    "\n",
    "def segment_plant(image):\n",
    "    mask = create_mask_for_plant(image)\n",
    "    output = cv2.bitwise_and(image, image, mask = mask)\n",
    "    return output\n",
    "\n",
    "def sharpen_image(image):\n",
    "    image_blurred = cv2.GaussianBlur(image, (0, 0), 3)\n",
    "    image_sharp = cv2.addWeighted(image, 1.5, image_blurred, -0.5, 0)\n",
    "    return image_sharp"
   ]
  },
  {
   "cell_type": "code",
   "execution_count": 6,
   "metadata": {},
   "outputs": [],
   "source": [
    "train_data = []\n",
    "\n",
    "for i in range(len(train)):\n",
    "    img = cv2.imread(train['file'][i])\n",
    "    img = cv2.resize(img,dsize=(256,256))\n",
    "    img_stack = segment_plant(img)\n",
    "    img_stack = sharpen_image(img_stack)\n",
    "    img_stack = cv2.cvtColor(img_stack, cv2.COLOR_RGB2GRAY )\n",
    "    img_stack = np.reshape(img_stack,(256,256,1))\n",
    "    train_data.append(np.concatenate((np.array(img),np.array(img_stack)),axis=2))\n",
    "\n",
    "train_data = np.array(train_data)"
   ]
  },
  {
   "cell_type": "markdown",
   "metadata": {},
   "source": [
    "## Label Encoding"
   ]
  },
  {
   "cell_type": "code",
   "execution_count": 7,
   "metadata": {},
   "outputs": [],
   "source": [
    "labels = train['species_num']\n",
    "labels = to_categorical(labels, num_classes = len(SPECIES))"
   ]
  },
  {
   "cell_type": "markdown",
   "metadata": {},
   "source": [
    "## Train/Test Split"
   ]
  },
  {
   "cell_type": "code",
   "execution_count": 8,
   "metadata": {},
   "outputs": [],
   "source": [
    "x_train, x_val, y_train, y_val = train_test_split(train_data, labels, test_size = 0.1, random_state=10)"
   ]
  },
  {
   "cell_type": "markdown",
   "metadata": {},
   "source": [
    "### Input Image shape"
   ]
  },
  {
   "cell_type": "code",
   "execution_count": 9,
   "metadata": {},
   "outputs": [
    {
     "name": "stdout",
     "output_type": "stream",
     "text": [
      "Input Shape is : (256, 256, 4)\n"
     ]
    }
   ],
   "source": [
    "input_shape = x_train[1].shape\n",
    "print('Input Shape is :', input_shape)"
   ]
  },
  {
   "cell_type": "markdown",
   "metadata": {},
   "source": [
    "## Build CNN Model"
   ]
  },
  {
   "cell_type": "code",
   "execution_count": 10,
   "metadata": {},
   "outputs": [],
   "source": [
    "def fire_incept(x, fire=16, intercept=64):\n",
    "    x = Conv2D(fire, (5,5), strides=(2,2))(x)\n",
    "    x = LeakyReLU(alpha=0.15)(x)\n",
    "    \n",
    "    left = Conv2D(intercept, (3,3), padding='same')(x)\n",
    "    left = LeakyReLU(alpha=0.15)(left)\n",
    "    \n",
    "    right = Conv2D(intercept, (5,5), padding='same')(x)\n",
    "    right = LeakyReLU(alpha=0.15)(right)\n",
    "    \n",
    "    x = concatenate([left, right], axis=3)\n",
    "    return x\n",
    "\n",
    "def fire_squeeze(x, fire=16, intercept=64):\n",
    "    x = Conv2D(fire, (1,1))(x)\n",
    "    x = LeakyReLU(alpha=0.15)(x)\n",
    "    \n",
    "    left = Conv2D(intercept, (1,1))(x)\n",
    "    left = LeakyReLU(alpha=0.15)(left)\n",
    "    \n",
    "    right = Conv2D(intercept, (3,3), padding='same')(x)\n",
    "    right = LeakyReLU(alpha=0.15)(right)\n",
    "    \n",
    "    x = concatenate([left, right], axis=3)\n",
    "    return x"
   ]
  },
  {
   "cell_type": "code",
   "execution_count": 11,
   "metadata": {},
   "outputs": [
    {
     "name": "stdout",
     "output_type": "stream",
     "text": [
      "Model: \"functional_1\"\n",
      "__________________________________________________________________________________________________\n",
      "Layer (type)                    Output Shape         Param #     Connected to                     \n",
      "==================================================================================================\n",
      "input_1 (InputLayer)            [(None, 256, 256, 4) 0                                            \n",
      "__________________________________________________________________________________________________\n",
      "conv2d (Conv2D)                 (None, 126, 126, 16) 1616        input_1[0][0]                    \n",
      "__________________________________________________________________________________________________\n",
      "leaky_re_lu (LeakyReLU)         (None, 126, 126, 16) 0           conv2d[0][0]                     \n",
      "__________________________________________________________________________________________________\n",
      "conv2d_1 (Conv2D)               (None, 126, 126, 16) 2320        leaky_re_lu[0][0]                \n",
      "__________________________________________________________________________________________________\n",
      "conv2d_2 (Conv2D)               (None, 126, 126, 16) 6416        leaky_re_lu[0][0]                \n",
      "__________________________________________________________________________________________________\n",
      "leaky_re_lu_1 (LeakyReLU)       (None, 126, 126, 16) 0           conv2d_1[0][0]                   \n",
      "__________________________________________________________________________________________________\n",
      "leaky_re_lu_2 (LeakyReLU)       (None, 126, 126, 16) 0           conv2d_2[0][0]                   \n",
      "__________________________________________________________________________________________________\n",
      "concatenate (Concatenate)       (None, 126, 126, 32) 0           leaky_re_lu_1[0][0]              \n",
      "                                                                 leaky_re_lu_2[0][0]              \n",
      "__________________________________________________________________________________________________\n",
      "conv2d_3 (Conv2D)               (None, 61, 61, 32)   25632       concatenate[0][0]                \n",
      "__________________________________________________________________________________________________\n",
      "leaky_re_lu_3 (LeakyReLU)       (None, 61, 61, 32)   0           conv2d_3[0][0]                   \n",
      "__________________________________________________________________________________________________\n",
      "conv2d_4 (Conv2D)               (None, 61, 61, 32)   9248        leaky_re_lu_3[0][0]              \n",
      "__________________________________________________________________________________________________\n",
      "conv2d_5 (Conv2D)               (None, 61, 61, 32)   25632       leaky_re_lu_3[0][0]              \n",
      "__________________________________________________________________________________________________\n",
      "leaky_re_lu_4 (LeakyReLU)       (None, 61, 61, 32)   0           conv2d_4[0][0]                   \n",
      "__________________________________________________________________________________________________\n",
      "leaky_re_lu_5 (LeakyReLU)       (None, 61, 61, 32)   0           conv2d_5[0][0]                   \n",
      "__________________________________________________________________________________________________\n",
      "concatenate_1 (Concatenate)     (None, 61, 61, 64)   0           leaky_re_lu_4[0][0]              \n",
      "                                                                 leaky_re_lu_5[0][0]              \n",
      "__________________________________________________________________________________________________\n",
      "conv2d_6 (Conv2D)               (None, 61, 61, 32)   2080        concatenate_1[0][0]              \n",
      "__________________________________________________________________________________________________\n",
      "leaky_re_lu_6 (LeakyReLU)       (None, 61, 61, 32)   0           conv2d_6[0][0]                   \n",
      "__________________________________________________________________________________________________\n",
      "conv2d_7 (Conv2D)               (None, 61, 61, 32)   1056        leaky_re_lu_6[0][0]              \n",
      "__________________________________________________________________________________________________\n",
      "conv2d_8 (Conv2D)               (None, 61, 61, 32)   9248        leaky_re_lu_6[0][0]              \n",
      "__________________________________________________________________________________________________\n",
      "leaky_re_lu_7 (LeakyReLU)       (None, 61, 61, 32)   0           conv2d_7[0][0]                   \n",
      "__________________________________________________________________________________________________\n",
      "leaky_re_lu_8 (LeakyReLU)       (None, 61, 61, 32)   0           conv2d_8[0][0]                   \n",
      "__________________________________________________________________________________________________\n",
      "concatenate_2 (Concatenate)     (None, 61, 61, 64)   0           leaky_re_lu_7[0][0]              \n",
      "                                                                 leaky_re_lu_8[0][0]              \n",
      "__________________________________________________________________________________________________\n",
      "conv2d_9 (Conv2D)               (None, 29, 29, 64)   102464      concatenate_2[0][0]              \n",
      "__________________________________________________________________________________________________\n",
      "leaky_re_lu_9 (LeakyReLU)       (None, 29, 29, 64)   0           conv2d_9[0][0]                   \n",
      "__________________________________________________________________________________________________\n",
      "conv2d_10 (Conv2D)              (None, 29, 29, 64)   36928       leaky_re_lu_9[0][0]              \n",
      "__________________________________________________________________________________________________\n",
      "conv2d_11 (Conv2D)              (None, 29, 29, 64)   102464      leaky_re_lu_9[0][0]              \n",
      "__________________________________________________________________________________________________\n",
      "leaky_re_lu_10 (LeakyReLU)      (None, 29, 29, 64)   0           conv2d_10[0][0]                  \n",
      "__________________________________________________________________________________________________\n",
      "leaky_re_lu_11 (LeakyReLU)      (None, 29, 29, 64)   0           conv2d_11[0][0]                  \n",
      "__________________________________________________________________________________________________\n",
      "concatenate_3 (Concatenate)     (None, 29, 29, 128)  0           leaky_re_lu_10[0][0]             \n",
      "                                                                 leaky_re_lu_11[0][0]             \n",
      "__________________________________________________________________________________________________\n",
      "conv2d_12 (Conv2D)              (None, 29, 29, 64)   8256        concatenate_3[0][0]              \n",
      "__________________________________________________________________________________________________\n",
      "leaky_re_lu_12 (LeakyReLU)      (None, 29, 29, 64)   0           conv2d_12[0][0]                  \n",
      "__________________________________________________________________________________________________\n",
      "conv2d_13 (Conv2D)              (None, 29, 29, 64)   4160        leaky_re_lu_12[0][0]             \n",
      "__________________________________________________________________________________________________\n",
      "conv2d_14 (Conv2D)              (None, 29, 29, 64)   36928       leaky_re_lu_12[0][0]             \n",
      "__________________________________________________________________________________________________\n",
      "leaky_re_lu_13 (LeakyReLU)      (None, 29, 29, 64)   0           conv2d_13[0][0]                  \n",
      "__________________________________________________________________________________________________\n",
      "leaky_re_lu_14 (LeakyReLU)      (None, 29, 29, 64)   0           conv2d_14[0][0]                  \n",
      "__________________________________________________________________________________________________\n",
      "concatenate_4 (Concatenate)     (None, 29, 29, 128)  0           leaky_re_lu_13[0][0]             \n",
      "                                                                 leaky_re_lu_14[0][0]             \n",
      "__________________________________________________________________________________________________\n",
      "conv2d_15 (Conv2D)              (None, 13, 13, 64)   204864      concatenate_4[0][0]              \n",
      "__________________________________________________________________________________________________\n",
      "leaky_re_lu_15 (LeakyReLU)      (None, 13, 13, 64)   0           conv2d_15[0][0]                  \n",
      "__________________________________________________________________________________________________\n",
      "conv2d_16 (Conv2D)              (None, 13, 13, 64)   36928       leaky_re_lu_15[0][0]             \n",
      "__________________________________________________________________________________________________\n",
      "conv2d_17 (Conv2D)              (None, 13, 13, 64)   102464      leaky_re_lu_15[0][0]             \n",
      "__________________________________________________________________________________________________\n",
      "leaky_re_lu_16 (LeakyReLU)      (None, 13, 13, 64)   0           conv2d_16[0][0]                  \n",
      "__________________________________________________________________________________________________\n",
      "leaky_re_lu_17 (LeakyReLU)      (None, 13, 13, 64)   0           conv2d_17[0][0]                  \n",
      "__________________________________________________________________________________________________\n",
      "concatenate_5 (Concatenate)     (None, 13, 13, 128)  0           leaky_re_lu_16[0][0]             \n",
      "                                                                 leaky_re_lu_17[0][0]             \n",
      "__________________________________________________________________________________________________\n",
      "conv2d_18 (Conv2D)              (None, 13, 13, 64)   8256        concatenate_5[0][0]              \n",
      "__________________________________________________________________________________________________\n",
      "leaky_re_lu_18 (LeakyReLU)      (None, 13, 13, 64)   0           conv2d_18[0][0]                  \n",
      "__________________________________________________________________________________________________\n",
      "conv2d_19 (Conv2D)              (None, 13, 13, 64)   4160        leaky_re_lu_18[0][0]             \n",
      "__________________________________________________________________________________________________\n",
      "conv2d_20 (Conv2D)              (None, 13, 13, 64)   36928       leaky_re_lu_18[0][0]             \n",
      "__________________________________________________________________________________________________\n",
      "leaky_re_lu_19 (LeakyReLU)      (None, 13, 13, 64)   0           conv2d_19[0][0]                  \n",
      "__________________________________________________________________________________________________\n",
      "leaky_re_lu_20 (LeakyReLU)      (None, 13, 13, 64)   0           conv2d_20[0][0]                  \n",
      "__________________________________________________________________________________________________\n",
      "concatenate_6 (Concatenate)     (None, 13, 13, 128)  0           leaky_re_lu_19[0][0]             \n",
      "                                                                 leaky_re_lu_20[0][0]             \n",
      "__________________________________________________________________________________________________\n",
      "conv2d_21 (Conv2D)              (None, 11, 11, 64)   73792       concatenate_6[0][0]              \n",
      "__________________________________________________________________________________________________\n",
      "leaky_re_lu_21 (LeakyReLU)      (None, 11, 11, 64)   0           conv2d_21[0][0]                  \n",
      "__________________________________________________________________________________________________\n",
      "flatten (Flatten)               (None, 7744)         0           leaky_re_lu_21[0][0]             \n",
      "__________________________________________________________________________________________________\n",
      "dense (Dense)                   (None, 512)          3965440     flatten[0][0]                    \n",
      "__________________________________________________________________________________________________\n",
      "leaky_re_lu_22 (LeakyReLU)      (None, 512)          0           dense[0][0]                      \n",
      "__________________________________________________________________________________________________\n",
      "dropout (Dropout)               (None, 512)          0           leaky_re_lu_22[0][0]             \n",
      "__________________________________________________________________________________________________\n",
      "dense_1 (Dense)                 (None, 12)           6156        dropout[0][0]                    \n",
      "==================================================================================================\n",
      "Total params: 4,813,436\n",
      "Trainable params: 4,813,436\n",
      "Non-trainable params: 0\n",
      "__________________________________________________________________________________________________\n"
     ]
    }
   ],
   "source": [
    "image_input=Input(shape=input_shape)\n",
    "\n",
    "x = fire_incept((image_input), fire=16, intercept=16)\n",
    "\n",
    "x = fire_incept(x, fire=32, intercept=32)\n",
    "x = fire_squeeze(x, fire=32, intercept=32)\n",
    "\n",
    "x = fire_incept(x, fire=64, intercept=64)\n",
    "x = fire_squeeze(x, fire=64, intercept=64)\n",
    "\n",
    "x = fire_incept(x, fire=64, intercept=64)\n",
    "x = fire_squeeze(x, fire=64, intercept=64)\n",
    "\n",
    "x = Conv2D(64, (3,3))(x)\n",
    "x = LeakyReLU(alpha=0.1)(x)\n",
    "\n",
    "x = Flatten()(x)\n",
    "\n",
    "x = Dense(512)(x)\n",
    "x = LeakyReLU(alpha=0.1)(x)\n",
    "x = Dropout(0.1)(x)\n",
    "\n",
    "out = Dense(len(SPECIES), activation='softmax')(x)\n",
    "\n",
    "model_new = Model(image_input, out)\n",
    "model_new.summary()"
   ]
  },
  {
   "cell_type": "code",
   "execution_count": 12,
   "metadata": {},
   "outputs": [],
   "source": [
    "model_new.compile(optimizer = Adam(lr=.00025) , loss = 'categorical_crossentropy', metrics=['accuracy'])"
   ]
  },
  {
   "cell_type": "code",
   "execution_count": 13,
   "metadata": {},
   "outputs": [],
   "source": [
    "learning_rate_reduction = ReduceLROnPlateau(monitor='val_acc', patience=3, verbose=1, \n",
    "                                            factor=0.5, min_lr=0.00001)"
   ]
  },
  {
   "cell_type": "code",
   "execution_count": 14,
   "metadata": {
    "_cell_guid": "79c7e3d0-c299-4dcb-8224-4455121ee9b0",
    "_uuid": "d629ff2d2480ee46fbb7e2d37f6b5fab8052498a"
   },
   "outputs": [],
   "source": [
    "datagen = ImageDataGenerator(rotation_range=40, \n",
    "                             zoom_range = 0.2, \n",
    "                             width_shift_range=0.2, \n",
    "                             height_shift_range=0.2,\n",
    "                             horizontal_flip=True, \n",
    "                             vertical_flip=True)\n",
    "datagen.fit(x_train)"
   ]
  },
  {
   "cell_type": "markdown",
   "metadata": {},
   "source": [
    "## Fit Model"
   ]
  },
  {
   "cell_type": "code",
   "execution_count": 15,
   "metadata": {},
   "outputs": [],
   "source": [
    "batch_size = 32\n",
    "epochs = 40"
   ]
  },
  {
   "cell_type": "code",
   "execution_count": 16,
   "metadata": {},
   "outputs": [
    {
     "name": "stdout",
     "output_type": "stream",
     "text": [
      "Epoch 1/40\n",
      "133/133 [==============================] - 373s 3s/step - loss: 2.0210 - accuracy: 0.2845 - val_loss: 1.5626 - val_accuracy: 0.4632\n",
      "Epoch 2/40\n",
      "133/133 [==============================] - 368s 3s/step - loss: 1.5673 - accuracy: 0.4480 - val_loss: 1.2195 - val_accuracy: 0.5537\n",
      "Epoch 3/40\n",
      "133/133 [==============================] - 370s 3s/step - loss: 1.3212 - accuracy: 0.5390 - val_loss: 1.1431 - val_accuracy: 0.6021\n",
      "Epoch 4/40\n",
      "133/133 [==============================] - 368s 3s/step - loss: 1.1953 - accuracy: 0.5847 - val_loss: 0.9989 - val_accuracy: 0.6484\n",
      "Epoch 5/40\n",
      "133/133 [==============================] - 365s 3s/step - loss: 1.1215 - accuracy: 0.6095 - val_loss: 1.0313 - val_accuracy: 0.5979\n",
      "Epoch 6/40\n",
      "133/133 [==============================] - 368s 3s/step - loss: 1.0012 - accuracy: 0.6587 - val_loss: 0.6547 - val_accuracy: 0.7768\n",
      "Epoch 7/40\n",
      "133/133 [==============================] - 367s 3s/step - loss: 0.8955 - accuracy: 0.6856 - val_loss: 0.6440 - val_accuracy: 0.7832\n",
      "Epoch 8/40\n",
      "133/133 [==============================] - 367s 3s/step - loss: 0.8062 - accuracy: 0.7195 - val_loss: 0.5270 - val_accuracy: 0.8126\n",
      "Epoch 9/40\n",
      "133/133 [==============================] - 373s 3s/step - loss: 0.7154 - accuracy: 0.7523 - val_loss: 0.5156 - val_accuracy: 0.8337\n",
      "Epoch 10/40\n",
      "133/133 [==============================] - 373s 3s/step - loss: 0.6495 - accuracy: 0.7789 - val_loss: 0.4557 - val_accuracy: 0.8358\n",
      "Epoch 11/40\n",
      "133/133 [==============================] - 367s 3s/step - loss: 0.5865 - accuracy: 0.7997 - val_loss: 0.4419 - val_accuracy: 0.8400\n",
      "Epoch 12/40\n",
      "133/133 [==============================] - 373s 3s/step - loss: 0.5279 - accuracy: 0.8136 - val_loss: 0.4566 - val_accuracy: 0.8337\n",
      "Epoch 13/40\n",
      "133/133 [==============================] - 367s 3s/step - loss: 0.4941 - accuracy: 0.8232 - val_loss: 0.4827 - val_accuracy: 0.8484\n",
      "Epoch 14/40\n",
      "133/133 [==============================] - 368s 3s/step - loss: 0.4809 - accuracy: 0.8261 - val_loss: 0.3679 - val_accuracy: 0.8695\n",
      "Epoch 15/40\n",
      "133/133 [==============================] - 366s 3s/step - loss: 0.4553 - accuracy: 0.8386 - val_loss: 0.4051 - val_accuracy: 0.8442\n",
      "Epoch 16/40\n",
      "133/133 [==============================] - 368s 3s/step - loss: 0.4671 - accuracy: 0.8346 - val_loss: 0.4152 - val_accuracy: 0.8568\n",
      "Epoch 17/40\n",
      "133/133 [==============================] - 365s 3s/step - loss: 0.4225 - accuracy: 0.8541 - val_loss: 0.4907 - val_accuracy: 0.8253\n",
      "Epoch 18/40\n",
      "133/133 [==============================] - 371s 3s/step - loss: 0.4470 - accuracy: 0.8442 - val_loss: 0.4026 - val_accuracy: 0.8716\n",
      "Epoch 19/40\n",
      "133/133 [==============================] - 368s 3s/step - loss: 0.3908 - accuracy: 0.8562 - val_loss: 0.3286 - val_accuracy: 0.8947\n",
      "Epoch 20/40\n",
      "133/133 [==============================] - 373s 3s/step - loss: 0.4093 - accuracy: 0.8551 - val_loss: 0.3597 - val_accuracy: 0.8758\n",
      "Epoch 21/40\n",
      "133/133 [==============================] - 371s 3s/step - loss: 0.3955 - accuracy: 0.8628 - val_loss: 0.2765 - val_accuracy: 0.9074\n",
      "Epoch 22/40\n",
      "133/133 [==============================] - 373s 3s/step - loss: 0.3733 - accuracy: 0.8626 - val_loss: 0.4759 - val_accuracy: 0.8568\n",
      "Epoch 23/40\n",
      "133/133 [==============================] - 371s 3s/step - loss: 0.3632 - accuracy: 0.8650 - val_loss: 0.3452 - val_accuracy: 0.8653\n",
      "Epoch 24/40\n",
      "133/133 [==============================] - 367s 3s/step - loss: 0.3468 - accuracy: 0.8770 - val_loss: 0.3346 - val_accuracy: 0.8821\n",
      "Epoch 25/40\n",
      "133/133 [==============================] - 366s 3s/step - loss: 0.3572 - accuracy: 0.8751 - val_loss: 0.3094 - val_accuracy: 0.8863\n",
      "Epoch 26/40\n",
      "133/133 [==============================] - 368s 3s/step - loss: 0.3303 - accuracy: 0.8812 - val_loss: 0.2986 - val_accuracy: 0.8926\n",
      "Epoch 27/40\n",
      "133/133 [==============================] - 368s 3s/step - loss: 0.3147 - accuracy: 0.8824 - val_loss: 0.2987 - val_accuracy: 0.9053\n",
      "Epoch 28/40\n",
      "133/133 [==============================] - 370s 3s/step - loss: 0.2995 - accuracy: 0.8918 - val_loss: 0.2593 - val_accuracy: 0.8968\n",
      "Epoch 29/40\n",
      "133/133 [==============================] - 368s 3s/step - loss: 0.3136 - accuracy: 0.8826 - val_loss: 0.2410 - val_accuracy: 0.9053\n",
      "Epoch 30/40\n",
      "133/133 [==============================] - 374s 3s/step - loss: 0.3140 - accuracy: 0.8869 - val_loss: 0.2313 - val_accuracy: 0.9242\n",
      "Epoch 31/40\n",
      "133/133 [==============================] - 374s 3s/step - loss: 0.3045 - accuracy: 0.8965 - val_loss: 0.2692 - val_accuracy: 0.9095\n",
      "Epoch 32/40\n",
      "133/133 [==============================] - 367s 3s/step - loss: 0.2949 - accuracy: 0.8928 - val_loss: 0.3003 - val_accuracy: 0.8989\n",
      "Epoch 33/40\n",
      "133/133 [==============================] - 372s 3s/step - loss: 0.3048 - accuracy: 0.8881 - val_loss: 0.2801 - val_accuracy: 0.9074\n",
      "Epoch 34/40\n",
      "133/133 [==============================] - 366s 3s/step - loss: 0.2957 - accuracy: 0.8895 - val_loss: 0.3024 - val_accuracy: 0.9032\n",
      "Epoch 35/40\n",
      "133/133 [==============================] - 371s 3s/step - loss: 0.3064 - accuracy: 0.8878 - val_loss: 0.2727 - val_accuracy: 0.9116\n",
      "Epoch 36/40\n",
      "133/133 [==============================] - 372s 3s/step - loss: 0.2703 - accuracy: 0.9001 - val_loss: 0.2412 - val_accuracy: 0.9116\n",
      "Epoch 37/40\n",
      "133/133 [==============================] - 369s 3s/step - loss: 0.2687 - accuracy: 0.9003 - val_loss: 0.2210 - val_accuracy: 0.9179\n",
      "Epoch 38/40\n",
      "133/133 [==============================] - 375s 3s/step - loss: 0.2588 - accuracy: 0.9036 - val_loss: 0.2287 - val_accuracy: 0.9095\n",
      "Epoch 39/40\n",
      "133/133 [==============================] - 370s 3s/step - loss: 0.2623 - accuracy: 0.9034 - val_loss: 0.2375 - val_accuracy: 0.9179\n",
      "Epoch 40/40\n",
      "133/133 [==============================] - 367s 3s/step - loss: 0.2390 - accuracy: 0.9144 - val_loss: 0.2710 - val_accuracy: 0.9074\n"
     ]
    }
   ],
   "source": [
    "model_new.fit(datagen.flow(x_train,y_train, batch_size=batch_size), \n",
    "              epochs = epochs,\n",
    "              validation_data = (x_val,y_val), \n",
    "              verbose = 1, \n",
    "              steps_per_epoch=x_train.shape[0] // batch_size, \n",
    "              callbacks=[learning_rate_reduction])\n",
    "model_new.save_weights('/kaggle/working/pretrainedweight.h5')"
   ]
  },
  {
   "cell_type": "code",
   "execution_count": 17,
   "metadata": {},
   "outputs": [],
   "source": [
    "x_test = []\n",
    "\n",
    "for file in sample_submission['file']:\n",
    "    img = cv2.imread(os.path.join(test_dir,file))\n",
    "    img = cv2.resize(img,dsize=(256,256))\n",
    "    img_stack = segment_plant(img)\n",
    "    img_stack = sharpen_image(img_stack)\n",
    "    img_stack = cv2.cvtColor(img_stack, cv2.COLOR_RGB2GRAY )\n",
    "    img_stack = np.reshape(img_stack,(256,256,1))\n",
    "    x_test.append(np.concatenate((np.array(img),np.array(img_stack)),axis=2))\n",
    "\n",
    "x_test = np.array(x_test)"
   ]
  },
  {
   "cell_type": "code",
   "execution_count": 18,
   "metadata": {},
   "outputs": [
    {
     "name": "stdout",
     "output_type": "stream",
     "text": [
      "15/15 [==============================] - 8s 537ms/step - loss: 0.2710 - accuracy: 0.9074\n",
      "Accuracy on Validation Set 0.9073684215545654\n"
     ]
    }
   ],
   "source": [
    "score = model_new.evaluate(x_val,y_val)\n",
    "print('Accuracy on Validation Set',score[1])"
   ]
  },
  {
   "cell_type": "markdown",
   "metadata": {},
   "source": [
    "# Applying XGBoost"
   ]
  },
  {
   "cell_type": "markdown",
   "metadata": {},
   "source": [
    "### Extracting Features from last Layer"
   ]
  },
  {
   "cell_type": "code",
   "execution_count": 19,
   "metadata": {},
   "outputs": [
    {
     "name": "stdout",
     "output_type": "stream",
     "text": [
      "(4275, 12)\n",
      "(475, 12)\n",
      "(794, 12)\n"
     ]
    }
   ],
   "source": [
    "model_feat = Model(inputs=model_new.input,outputs=model_new.get_layer('dense_1').output)\n",
    "\n",
    "feat_train = model_feat.predict(x_train)\n",
    "print(feat_train.shape)\n",
    "\n",
    "feat_val = model_feat.predict(x_val)\n",
    "print(feat_val.shape)\n",
    "\n",
    "feat_test = model_feat.predict(x_test)\n",
    "print(feat_test.shape)"
   ]
  },
  {
   "cell_type": "markdown",
   "metadata": {},
   "source": [
    "### Applying XGBoost"
   ]
  },
  {
   "cell_type": "code",
   "execution_count": 20,
   "metadata": {},
   "outputs": [
    {
     "data": {
      "text/plain": [
       "XGBClassifier(base_score=0.5, booster='gbtree', colsample_bylevel=1,\n",
       "              colsample_bynode=1, colsample_bytree=1, gamma=0, gpu_id=-1,\n",
       "              importance_type='gain', interaction_constraints='',\n",
       "              learning_rate=0.300000012, max_delta_step=0, max_depth=6,\n",
       "              min_child_weight=1, missing=nan, monotone_constraints='()',\n",
       "              n_estimators=100, n_jobs=0, num_parallel_tree=1,\n",
       "              objective='multi:softprob', random_state=0, reg_alpha=0,\n",
       "              reg_lambda=1, scale_pos_weight=None, subsample=1,\n",
       "              tree_method='exact', validate_parameters=1, verbosity=None)"
      ]
     },
     "execution_count": 20,
     "metadata": {},
     "output_type": "execute_result"
    }
   ],
   "source": [
    "import xgboost as xgb\n",
    "\n",
    "xb = xgb.XGBClassifier()\n",
    "\n",
    "xb.fit(feat_train,np.argmax(y_train,axis=1))"
   ]
  },
  {
   "cell_type": "code",
   "execution_count": 21,
   "metadata": {},
   "outputs": [
    {
     "data": {
      "text/plain": [
       "1.0"
      ]
     },
     "execution_count": 21,
     "metadata": {},
     "output_type": "execute_result"
    }
   ],
   "source": [
    "# Prediction Score [Training Features]\n",
    "xb.score(feat_train,np.argmax(y_train,axis=1))"
   ]
  },
  {
   "cell_type": "code",
   "execution_count": 22,
   "metadata": {},
   "outputs": [
    {
     "data": {
      "text/plain": [
       "0.9263157894736842"
      ]
     },
     "execution_count": 22,
     "metadata": {},
     "output_type": "execute_result"
    }
   ],
   "source": [
    "# Prediction Score [Validation Features]\n",
    "xb.score(feat_val,np.argmax(y_val,axis=1))"
   ]
  },
  {
   "cell_type": "markdown",
   "metadata": {},
   "source": [
    "### Predict on Test dataset"
   ]
  },
  {
   "cell_type": "code",
   "execution_count": 23,
   "metadata": {},
   "outputs": [],
   "source": [
    "Pred_labels = xb.predict(feat_test)"
   ]
  },
  {
   "cell_type": "code",
   "execution_count": 24,
   "metadata": {},
   "outputs": [],
   "source": [
    "Pred_labels = pd.DataFrame(Pred_labels,index =None,columns=['species_num'])\n",
    "\n",
    "test_id = []\n",
    "for file in os.listdir(test_dir):\n",
    "    test_id.append(['{}'.format(file)])\n",
    "\n",
    "test_id = pd.DataFrame(test_id, columns=['file'])"
   ]
  },
  {
   "cell_type": "markdown",
   "metadata": {},
   "source": [
    "### Save file for Submission"
   ]
  },
  {
   "cell_type": "code",
   "execution_count": 25,
   "metadata": {},
   "outputs": [
    {
     "name": "stdout",
     "output_type": "stream",
     "text": [
      "            file                    species\n",
      "0  8916793ce.png  Small-flowered Cranesbill\n",
      "1  2df78338c.png                    Fat Hen\n",
      "2  c4ed8ed38.png                 Sugar beet\n",
      "3  8ece6efec.png           Common Chickweed\n",
      "4  1f290e016.png                 Sugar beet\n"
     ]
    }
   ],
   "source": [
    "test_df = pd.DataFrame()\n",
    "test_df['species_num'] = Pred_labels['species_num']\n",
    "test_df['file'] = test_id['file']\n",
    "test_df['species'] = [SPECIES[i] for i in Pred_labels['species_num']]\n",
    "\n",
    "submission = pd.merge(left=sample_submission, right=test_df[['file', 'species']], on=\"file\", how=\"right\")\n",
    "submission.drop(['species_x'], axis = 1, inplace = True)\n",
    "submission.columns = ['file','species'] \n",
    "print(submission.head())\n",
    "\n",
    "submission.to_csv('/kaggle/working/submission_xgb.csv', index=False)"
   ]
  },
  {
   "cell_type": "markdown",
   "metadata": {},
   "source": [
    "## Test model on New Test Dataset (images downloaded from Google)"
   ]
  },
  {
   "cell_type": "code",
   "execution_count": 26,
   "metadata": {},
   "outputs": [],
   "source": [
    "test_new_dir = '/kaggle/input/plant-seedlings-test-new/Test_new/'\n",
    "Test_new = pd.read_csv('/kaggle/input/plant-seedlings-test-new/Test_new_actual.csv')"
   ]
  },
  {
   "cell_type": "code",
   "execution_count": 30,
   "metadata": {},
   "outputs": [],
   "source": [
    "x_test_new = []\n",
    "\n",
    "for file in Test_new['file']:\n",
    "    img = cv2.imread(os.path.join(test_new_dir,file))\n",
    "    img = cv2.resize(img,dsize=(256,256))\n",
    "    img_stack = segment_plant(img)\n",
    "    img_stack = sharpen_image(img_stack)\n",
    "    img_stack = cv2.cvtColor(img_stack, cv2.COLOR_RGB2GRAY )\n",
    "    img_stack = np.reshape(img_stack,(256,256,1))\n",
    "    x_test_new.append(np.concatenate((np.array(img),np.array(img_stack)),axis=2))\n",
    "\n",
    "x_test_new = np.array(x_test_new)"
   ]
  },
  {
   "cell_type": "code",
   "execution_count": 31,
   "metadata": {},
   "outputs": [
    {
     "name": "stdout",
     "output_type": "stream",
     "text": [
      "(20, 12)\n"
     ]
    }
   ],
   "source": [
    "feat_test_new = model_feat.predict(x_test_new)\n",
    "print(feat_test_new.shape)"
   ]
  },
  {
   "cell_type": "code",
   "execution_count": 37,
   "metadata": {},
   "outputs": [
    {
     "data": {
      "text/html": [
       "<div>\n",
       "<style scoped>\n",
       "    .dataframe tbody tr th:only-of-type {\n",
       "        vertical-align: middle;\n",
       "    }\n",
       "\n",
       "    .dataframe tbody tr th {\n",
       "        vertical-align: top;\n",
       "    }\n",
       "\n",
       "    .dataframe thead th {\n",
       "        text-align: right;\n",
       "    }\n",
       "</style>\n",
       "<table border=\"1\" class=\"dataframe\">\n",
       "  <thead>\n",
       "    <tr style=\"text-align: right;\">\n",
       "      <th></th>\n",
       "      <th>file</th>\n",
       "      <th>species</th>\n",
       "      <th>prediction</th>\n",
       "    </tr>\n",
       "  </thead>\n",
       "  <tbody>\n",
       "    <tr>\n",
       "      <th>0</th>\n",
       "      <td>3c75e7d79.png</td>\n",
       "      <td>Charlock</td>\n",
       "      <td>Charlock</td>\n",
       "    </tr>\n",
       "    <tr>\n",
       "      <th>1</th>\n",
       "      <td>456.jpg</td>\n",
       "      <td>Fat Hen</td>\n",
       "      <td>Fat Hen</td>\n",
       "    </tr>\n",
       "    <tr>\n",
       "      <th>2</th>\n",
       "      <td>789.jpg</td>\n",
       "      <td>Charlock</td>\n",
       "      <td>Charlock</td>\n",
       "    </tr>\n",
       "    <tr>\n",
       "      <th>3</th>\n",
       "      <td>123.jpg</td>\n",
       "      <td>Fat Hen</td>\n",
       "      <td>Fat Hen</td>\n",
       "    </tr>\n",
       "    <tr>\n",
       "      <th>4</th>\n",
       "      <td>131415.jpg</td>\n",
       "      <td>Small-flowered Cranesbill</td>\n",
       "      <td>Charlock</td>\n",
       "    </tr>\n",
       "    <tr>\n",
       "      <th>5</th>\n",
       "      <td>101112.jpg</td>\n",
       "      <td>Charlock</td>\n",
       "      <td>Common wheat</td>\n",
       "    </tr>\n",
       "    <tr>\n",
       "      <th>6</th>\n",
       "      <td>161718.jpg</td>\n",
       "      <td>Chickweed</td>\n",
       "      <td>Fat Hen</td>\n",
       "    </tr>\n",
       "    <tr>\n",
       "      <th>7</th>\n",
       "      <td>da38229c7.png</td>\n",
       "      <td>Cleavers</td>\n",
       "      <td>Cleavers</td>\n",
       "    </tr>\n",
       "    <tr>\n",
       "      <th>8</th>\n",
       "      <td>202122.jpg</td>\n",
       "      <td>Cleavers</td>\n",
       "      <td>Charlock</td>\n",
       "    </tr>\n",
       "    <tr>\n",
       "      <th>9</th>\n",
       "      <td>0ebf8f2f4.png</td>\n",
       "      <td>Maize</td>\n",
       "      <td>Maize</td>\n",
       "    </tr>\n",
       "    <tr>\n",
       "      <th>10</th>\n",
       "      <td>454647.tiff</td>\n",
       "      <td>Scentless Mayweed</td>\n",
       "      <td>Common wheat</td>\n",
       "    </tr>\n",
       "    <tr>\n",
       "      <th>11</th>\n",
       "      <td>2c28f05a9.png</td>\n",
       "      <td>Scentless Mayweed</td>\n",
       "      <td>Scentless Mayweed</td>\n",
       "    </tr>\n",
       "    <tr>\n",
       "      <th>12</th>\n",
       "      <td>1694a70e4.png</td>\n",
       "      <td>Scentless Mayweed</td>\n",
       "      <td>Scentless Mayweed</td>\n",
       "    </tr>\n",
       "    <tr>\n",
       "      <th>13</th>\n",
       "      <td>505152jpg.jpg</td>\n",
       "      <td>Scentless Mayweed</td>\n",
       "      <td>Common wheat</td>\n",
       "    </tr>\n",
       "    <tr>\n",
       "      <th>14</th>\n",
       "      <td>1b490196c.png</td>\n",
       "      <td>Shepherds Purse</td>\n",
       "      <td>Shepherds Purse</td>\n",
       "    </tr>\n",
       "    <tr>\n",
       "      <th>15</th>\n",
       "      <td>606162.jpg</td>\n",
       "      <td>Shepherds Purse</td>\n",
       "      <td>Charlock</td>\n",
       "    </tr>\n",
       "    <tr>\n",
       "      <th>16</th>\n",
       "      <td>5bc6595f6.png</td>\n",
       "      <td>Maize</td>\n",
       "      <td>Maize</td>\n",
       "    </tr>\n",
       "    <tr>\n",
       "      <th>17</th>\n",
       "      <td>60f0bc617.png</td>\n",
       "      <td>Small-flowered Cranesbill</td>\n",
       "      <td>Small-flowered Cranesbill</td>\n",
       "    </tr>\n",
       "    <tr>\n",
       "      <th>18</th>\n",
       "      <td>SS2838933.jpg</td>\n",
       "      <td>Charlock</td>\n",
       "      <td>Charlock</td>\n",
       "    </tr>\n",
       "    <tr>\n",
       "      <th>19</th>\n",
       "      <td>707172.jpg</td>\n",
       "      <td>Fat Hen</td>\n",
       "      <td>Sugar beet</td>\n",
       "    </tr>\n",
       "  </tbody>\n",
       "</table>\n",
       "</div>"
      ],
      "text/plain": [
       "             file                    species                 prediction\n",
       "0   3c75e7d79.png                   Charlock                   Charlock\n",
       "1         456.jpg                    Fat Hen                    Fat Hen\n",
       "2         789.jpg                   Charlock                   Charlock\n",
       "3         123.jpg                    Fat Hen                    Fat Hen\n",
       "4      131415.jpg  Small-flowered Cranesbill                   Charlock\n",
       "5      101112.jpg                   Charlock               Common wheat\n",
       "6      161718.jpg                  Chickweed                    Fat Hen\n",
       "7   da38229c7.png                   Cleavers                   Cleavers\n",
       "8      202122.jpg                   Cleavers                   Charlock\n",
       "9   0ebf8f2f4.png                      Maize                      Maize\n",
       "10    454647.tiff          Scentless Mayweed               Common wheat\n",
       "11  2c28f05a9.png          Scentless Mayweed          Scentless Mayweed\n",
       "12  1694a70e4.png          Scentless Mayweed          Scentless Mayweed\n",
       "13  505152jpg.jpg          Scentless Mayweed               Common wheat\n",
       "14  1b490196c.png            Shepherds Purse            Shepherds Purse\n",
       "15     606162.jpg            Shepherds Purse                   Charlock\n",
       "16  5bc6595f6.png                      Maize                      Maize\n",
       "17  60f0bc617.png  Small-flowered Cranesbill  Small-flowered Cranesbill\n",
       "18  SS2838933.jpg                   Charlock                   Charlock\n",
       "19     707172.jpg                    Fat Hen                 Sugar beet"
      ]
     },
     "execution_count": 37,
     "metadata": {},
     "output_type": "execute_result"
    }
   ],
   "source": [
    "Pred_labels_new = xb.predict(feat_test_new)\n",
    "Pred_labels_new = pd.DataFrame(Pred_labels_new,index =None,columns=['species_num'])\n",
    "Test_new['prediction'] = [SPECIES[i] for i in Pred_labels_new['species_num']]\n",
    "Test_new"
   ]
  },
  {
   "cell_type": "markdown",
   "metadata": {},
   "source": [
    "### The XGBoost Model get 12/20 correct"
   ]
  },
  {
   "cell_type": "code",
   "execution_count": 38,
   "metadata": {},
   "outputs": [],
   "source": [
    "Test_new.to_csv('/kaggle/working/test_new_result.csv',index=False)"
   ]
  }
 ],
 "metadata": {
  "kernelspec": {
   "display_name": "Python 3",
   "language": "python",
   "name": "python3"
  },
  "language_info": {
   "codemirror_mode": {
    "name": "ipython",
    "version": 3
   },
   "file_extension": ".py",
   "mimetype": "text/x-python",
   "name": "python",
   "nbconvert_exporter": "python",
   "pygments_lexer": "ipython3",
   "version": "3.8.3"
  }
 },
 "nbformat": 4,
 "nbformat_minor": 4
}
